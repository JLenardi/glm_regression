{
 "cells": [
  {
   "cell_type": "markdown",
   "metadata": {},
   "source": [
    "<div style=\"text-align: right\">19 March 2019</div>"
   ]
  },
  {
   "cell_type": "markdown",
   "metadata": {},
   "source": [
    "# Probability functions for GLM regression"
   ]
  },
  {
   "cell_type": "code",
   "execution_count": 1,
   "metadata": {
    "collapsed": true
   },
   "outputs": [],
   "source": [
    "import numpy as np\n",
    "import pandas as pd\n",
    "import matplotlib.pyplot as plt"
   ]
  },
  {
   "cell_type": "code",
   "execution_count": 2,
   "metadata": {
    "collapsed": false
   },
   "outputs": [],
   "source": [
    "from scipy import stats\n",
    "from statsmodels.distributions.empirical_distribution import ECDF"
   ]
  },
  {
   "cell_type": "code",
   "execution_count": 3,
   "metadata": {
    "collapsed": true
   },
   "outputs": [],
   "source": [
    "# Set random seed\n",
    "#np.random.seed(280857)"
   ]
  },
  {
   "cell_type": "markdown",
   "metadata": {},
   "source": [
    "## Normal (Gaussian) distribution"
   ]
  },
  {
   "cell_type": "code",
   "execution_count": 4,
   "metadata": {
    "collapsed": false
   },
   "outputs": [
    {
     "name": "stdout",
     "output_type": "stream",
     "text": [
      "Mean = 0 ; std = 1\n"
     ]
    }
   ],
   "source": [
    "# Parameters\n",
    "mu = 0\n",
    "sd = 1\n",
    "\n",
    "# Statistical properties\n",
    "print(\"Mean =\", np.round(mu), \"; std =\", np.round(sd))"
   ]
  },
  {
   "cell_type": "code",
   "execution_count": 5,
   "metadata": {
    "collapsed": false
   },
   "outputs": [],
   "source": [
    "# Theoretical CDF\n",
    "xlim0 = stats.norm.ppf(0.01, loc=mu, scale=sd)\n",
    "xlim1 = stats.norm.ppf(0.99, loc=mu, scale=sd)\n",
    "x0 = np.linspace(xlim0, xlim1, 100)\n",
    "y0 = stats.norm.cdf(x0, loc=mu, scale=sd)"
   ]
  },
  {
   "cell_type": "code",
   "execution_count": 6,
   "metadata": {
    "collapsed": true
   },
   "outputs": [],
   "source": [
    "# Sample size\n",
    "N = 100"
   ]
  },
  {
   "cell_type": "code",
   "execution_count": 7,
   "metadata": {
    "collapsed": false
   },
   "outputs": [
    {
     "name": "stdout",
     "output_type": "stream",
     "text": [
      "Mean= 0.09 ; sd= 1.0\n"
     ]
    }
   ],
   "source": [
    "# Random sample (numpy)\n",
    "y = np.random.normal(loc=mu, scale=sd, size=N)\n",
    "print(\"Mean=\", np.mean(y).round(2), \"; sd=\", np.std(y).round(2))\n",
    "\n",
    "# Empirical CDF\n",
    "ecdf = ECDF(y)\n",
    "x1 = ecdf.x\n",
    "y1 = ecdf.y"
   ]
  },
  {
   "cell_type": "code",
   "execution_count": 8,
   "metadata": {
    "collapsed": false
   },
   "outputs": [
    {
     "name": "stdout",
     "output_type": "stream",
     "text": [
      "Mean= -0.08 ; sd= 0.91\n"
     ]
    }
   ],
   "source": [
    "# Random sample (scipy)\n",
    "y = np.random.normal(loc=mu, scale=sd, size=N)\n",
    "print(\"Mean=\", np.mean(y).round(2), \"; sd=\", np.std(y).round(2))\n",
    "\n",
    "# Empirical CDF\n",
    "ecdf = ECDF(y)\n",
    "x2 = ecdf.x\n",
    "y2 = ecdf.y"
   ]
  },
  {
   "cell_type": "code",
   "execution_count": 9,
   "metadata": {
    "collapsed": false,
    "scrolled": true
   },
   "outputs": [
    {
     "data": {
      "image/png": "[encoded data removed]",
      "text/plain": [
       "<matplotlib.figure.Figure at 0x7f8f6b3b4a20>"
      ]
     },
     "metadata": {},
     "output_type": "display_data"
    }
   ],
   "source": [
    "# Plot\n",
    "fig, ax = plt.subplots(1, 1)\n",
    "_ = ax.plot(x0, y0, marker=\"\", ls=\":\", c=\"k\", alpha=1.0, label=\"Theoretical\")\n",
    "_ = ax.plot(x1, y1, marker=\"\", ls=\"-\", c=\"b\", alpha=0.6, label=\"Sample (numpy)\")\n",
    "_ = ax.plot(x2, y2, marker=\"\", ls=\"-\", c=\"r\", alpha=0.6, label=\"Sample (scipy)\")\n",
    "ax.set_xlabel(\"Outcome (y)\")\n",
    "ax.set_ylabel(\"Cumulative frequency\")\n",
    "ax.set_title(\"Normal distribution\")\n",
    "ax.legend()\n",
    "ax.grid(b=True)\n",
    "plt.show()"
   ]
  },
  {
   "cell_type": "markdown",
   "metadata": {},
   "source": [
    "## Exponential distribution"
   ]
  },
  {
   "cell_type": "code",
   "execution_count": 10,
   "metadata": {
    "collapsed": false
   },
   "outputs": [
    {
     "name": "stdout",
     "output_type": "stream",
     "text": [
      "mean= 2.0 ; std= 2.0\n"
     ]
    }
   ],
   "source": [
    "# Parameter\n",
    "llambda = 0.5\n",
    "\n",
    "# Statistical properties\n",
    "mu = 1 / llambda\n",
    "sd = 1 / llambda\n",
    "print(\"mean=\", np.round(mu, 2), \"; std=\", np.round(sd, 2))"
   ]
  },
  {
   "cell_type": "code",
   "execution_count": 11,
   "metadata": {
    "collapsed": false
   },
   "outputs": [],
   "source": [
    "# Theoretical CDF\n",
    "xlim0 = stats.expon.ppf(0.01, loc=0, scale=sd)\n",
    "xlim1 = stats.expon.ppf(0.99, loc=0, scale=sd)\n",
    "x0 = np.linspace(xlim0, xlim1, 100)\n",
    "y0 = stats.expon.cdf(x0, loc=0, scale=sd)"
   ]
  },
  {
   "cell_type": "code",
   "execution_count": 12,
   "metadata": {
    "collapsed": true
   },
   "outputs": [],
   "source": [
    "# Sample size\n",
    "N = 100"
   ]
  },
  {
   "cell_type": "code",
   "execution_count": 13,
   "metadata": {
    "collapsed": false
   },
   "outputs": [
    {
     "name": "stdout",
     "output_type": "stream",
     "text": [
      "mean= 2.05 ; std= 2.04\n"
     ]
    }
   ],
   "source": [
    "# Random sample (numpy)\n",
    "y = np.random.exponential(scale=sd, size=N)\n",
    "print(\"mean=\", np.mean(y).round(2), \"; std=\", np.std(y).round(2))\n",
    "\n",
    "# Empirical CDF\n",
    "ecdf = ECDF(y)\n",
    "x1 = ecdf.x\n",
    "y1 = ecdf.y"
   ]
  },
  {
   "cell_type": "code",
   "execution_count": 14,
   "metadata": {
    "collapsed": false
   },
   "outputs": [
    {
     "name": "stdout",
     "output_type": "stream",
     "text": [
      "mean= 2.11 ; std= 2.18\n"
     ]
    }
   ],
   "source": [
    "# Random sample (scipy)\n",
    "y = stats.expon.rvs(loc=0, scale=sd, size=N)\n",
    "print(\"mean=\", np.mean(y).round(2), \"; std=\", np.std(y).round(2))\n",
    "\n",
    "# Empirical CDF\n",
    "ecdf = ECDF(y)\n",
    "x2 = ecdf.x\n",
    "y2 = ecdf.y"
   ]
  },
  {
   "cell_type": "code",
   "execution_count": 15,
   "metadata": {
    "collapsed": false,
    "scrolled": true
   },
   "outputs": [
    {
     "data": {
      "image/png": "[encoded data removed]",
      "text/plain": [
       "<matplotlib.figure.Figure at 0x7f8f67a7c940>"
      ]
     },
     "metadata": {},
     "output_type": "display_data"
    }
   ],
   "source": [
    "# Plot\n",
    "fig, ax = plt.subplots(1, 1)\n",
    "_ = ax.plot(x0, y0, marker=\"\", ls=\":\", c=\"k\", alpha=1.0, label=\"Theoretical\")\n",
    "_ = ax.plot(x1, y1, marker=\"\", ls=\"-\", c=\"b\", alpha=0.6, label=\"Sample (numpy)\")\n",
    "_ = ax.plot(x2, y2, marker=\"\", ls=\"-\", c=\"r\", alpha=0.6, label=\"Sample (scipy)\")\n",
    "ax.set_xlabel(\"Outcome (y)\")\n",
    "ax.set_ylabel(\"Cumulative frequency\")\n",
    "ax.set_title(\"Exponential distribution\")\n",
    "ax.legend()\n",
    "ax.grid(b=True)\n",
    "plt.show()"
   ]
  },
  {
   "cell_type": "markdown",
   "metadata": {},
   "source": [
    "## Gamma distribution"
   ]
  },
  {
   "cell_type": "code",
   "execution_count": 16,
   "metadata": {
    "collapsed": false
   },
   "outputs": [
    {
     "name": "stdout",
     "output_type": "stream",
     "text": [
      "mean= 4 ; std= 2.83\n"
     ]
    }
   ],
   "source": [
    "# Parameters\n",
    "k = 2\n",
    "theta = 2\n",
    "\n",
    "# Statistical properties\n",
    "mu = k * theta\n",
    "sd = np.sqrt(k) * theta\n",
    "print(\"mean=\", np.round(mu, 2), \"; std=\", np.round(sd, 2))"
   ]
  },
  {
   "cell_type": "code",
   "execution_count": 17,
   "metadata": {
    "collapsed": false
   },
   "outputs": [],
   "source": [
    "# Theoretical CDF\n",
    "xlim0 = stats.gamma.ppf(0.01, a=k, loc=0, scale=theta)\n",
    "xlim1 = stats.gamma.ppf(0.99, a=k, loc=0, scale=theta)\n",
    "x0 = np.linspace(xlim0, xlim1, 100)\n",
    "y0 = stats.gamma.cdf(x0, a=k, loc=0, scale=theta)"
   ]
  },
  {
   "cell_type": "code",
   "execution_count": 18,
   "metadata": {
    "collapsed": true
   },
   "outputs": [],
   "source": [
    "# Sample size\n",
    "N = 100"
   ]
  },
  {
   "cell_type": "code",
   "execution_count": 19,
   "metadata": {
    "collapsed": false
   },
   "outputs": [
    {
     "name": "stdout",
     "output_type": "stream",
     "text": [
      "mean= 3.4 ; std= 2.42\n"
     ]
    }
   ],
   "source": [
    "y = np.random.gamma(shape=k, scale=theta, size=N)\n",
    "print(\"mean=\", np.mean(y).round(2), \"; std=\", np.std(y).round(2))\n",
    "\n",
    "# Empirical CDF\n",
    "ecdf = ECDF(y)\n",
    "x1 = ecdf.x\n",
    "y1 = ecdf.y"
   ]
  },
  {
   "cell_type": "code",
   "execution_count": 20,
   "metadata": {
    "collapsed": false
   },
   "outputs": [
    {
     "name": "stdout",
     "output_type": "stream",
     "text": [
      "mean= 4.17 ; std= 2.99\n"
     ]
    }
   ],
   "source": [
    "y = stats.gamma.rvs(a=k, loc=0, scale=theta, size=N)\n",
    "print(\"mean=\", np.mean(y).round(2), \"; std=\", np.std(y).round(2))\n",
    "\n",
    "# Empirical CDF\n",
    "ecdf = ECDF(y)\n",
    "x2 = ecdf.x\n",
    "y2 = ecdf.y"
   ]
  },
  {
   "cell_type": "code",
   "execution_count": 21,
   "metadata": {
    "collapsed": false
   },
   "outputs": [
    {
     "data": {
      "image/png": "[encoded data removed]",
      "text/plain": [
       "<matplotlib.figure.Figure at 0x7f8f67a36470>"
      ]
     },
     "metadata": {},
     "output_type": "display_data"
    }
   ],
   "source": [
    "# Plot\n",
    "fig, ax = plt.subplots(1, 1)\n",
    "_ = ax.plot(x0, y0, marker=\"\", ls=\":\", c=\"k\", alpha=1.0, label=\"Theoretical\")\n",
    "_ = ax.plot(x1, y1, marker=\"\", ls=\"-\", c=\"b\", alpha=0.6, label=\"Sample (numpy)\")\n",
    "_ = ax.plot(x2, y2, marker=\"\", ls=\"-\", c=\"r\", alpha=0.6, label=\"Sample (scipy)\")\n",
    "ax.set_xlabel(\"Outcome (y)\")\n",
    "ax.set_ylabel(\"Cumulative frequency\")\n",
    "ax.set_title(\"Gamma distribution\")\n",
    "ax.legend()\n",
    "ax.grid(b=True)\n",
    "plt.show()"
   ]
  },
  {
   "cell_type": "markdown",
   "metadata": {},
   "source": [
    "## Inverse Gaussian (Wald) distribution"
   ]
  },
  {
   "cell_type": "markdown",
   "metadata": {},
   "source": [
    "References: \n",
    "__[numpy](https://docs.scipy.org/doc/numpy/reference/generated/numpy.random.wald.html#numpy.random.wald)__ \n",
    "__[scipy](https://docs.scipy.org/doc/scipy/reference/generated/scipy.stats.invgauss.html#scipy.stats.invgauss)__\n",
    "\n",
    "Treatment of scale appears inconsistent; use lambda = 1."
   ]
  },
  {
   "cell_type": "code",
   "execution_count": 22,
   "metadata": {
    "collapsed": false
   },
   "outputs": [
    {
     "name": "stdout",
     "output_type": "stream",
     "text": [
      "mean= 0.5 ; std= 0.5\n"
     ]
    }
   ],
   "source": [
    "# Parameters\n",
    "mu = 0.5\n",
    "llambda = 1\n",
    "\n",
    "# Statistical properties\n",
    "sd = mu / np.sqrt(llambda)\n",
    "print(\"mean=\", np.round(mu, 2), \"; std=\", np.round(sd, 2))"
   ]
  },
  {
   "cell_type": "code",
   "execution_count": 23,
   "metadata": {
    "collapsed": false
   },
   "outputs": [],
   "source": [
    "# Theoretical CDF\n",
    "xlim0 = stats.invgauss.ppf(0.01, mu, scale=llambda)\n",
    "xlim1 = stats.invgauss.ppf(0.99, mu, scale=llambda)\n",
    "x0 = np.linspace(xlim0, xlim1, 100)\n",
    "y0 = stats.invgauss.cdf(x0, mu, scale=llambda)"
   ]
  },
  {
   "cell_type": "code",
   "execution_count": 24,
   "metadata": {
    "collapsed": true
   },
   "outputs": [],
   "source": [
    "# Sample size\n",
    "N = 100"
   ]
  },
  {
   "cell_type": "code",
   "execution_count": 25,
   "metadata": {
    "collapsed": false
   },
   "outputs": [
    {
     "name": "stdout",
     "output_type": "stream",
     "text": [
      "mean= 0.51 ; std= 0.33\n"
     ]
    }
   ],
   "source": [
    "# Random sample (numpy)\n",
    "y = np.random.wald(mean=mu, scale=llambda, size=N)\n",
    "print(\"mean=\", np.mean(y).round(2), \"; std=\", np.std(y).round(2))\n",
    "\n",
    "# Empirical CDF\n",
    "ecdf = ECDF(y)\n",
    "x1 = ecdf.x\n",
    "y1 = ecdf.y"
   ]
  },
  {
   "cell_type": "code",
   "execution_count": 26,
   "metadata": {
    "collapsed": false
   },
   "outputs": [
    {
     "name": "stdout",
     "output_type": "stream",
     "text": [
      "mean= 0.5 ; std= 0.35\n"
     ]
    }
   ],
   "source": [
    "# Random sample (scipy)\n",
    "y = stats.invgauss.rvs(mu, loc=0, scale=llambda, size=N)\n",
    "print(\"mean=\", np.mean(y).round(2), \"; std=\", np.std(y).round(2))\n",
    "\n",
    "# Empirical CDF\n",
    "ecdf = ECDF(y)\n",
    "x2 = ecdf.x\n",
    "y2 = ecdf.y"
   ]
  },
  {
   "cell_type": "code",
   "execution_count": 27,
   "metadata": {
    "collapsed": false
   },
   "outputs": [
    {
     "data": {
      "image/png": "[encoded data removed]",
      "text/plain": [
       "<matplotlib.figure.Figure at 0x7f8f67a755c0>"
      ]
     },
     "metadata": {},
     "output_type": "display_data"
    }
   ],
   "source": [
    "# Plot\n",
    "fig, ax = plt.subplots(1, 1)\n",
    "_ = ax.plot(x0, y0, marker=\"\", ls=\":\", c=\"k\", alpha=1.0, label=\"Theoretical\")\n",
    "_ = ax.plot(x1, y1, marker=\"\", ls=\"-\", c=\"b\", alpha=0.6, label=\"Sample (numpy)\")\n",
    "_ = ax.plot(x2, y2, marker=\"\", ls=\"-\", c=\"r\", alpha=0.6, label=\"Sample (scipy)\")\n",
    "ax.set_xlabel(\"Outcome (y)\")\n",
    "ax.set_ylabel(\"Cumulative frequency\")\n",
    "ax.set_title(\"Inverse Gaussian (Wald) distribution\")\n",
    "ax.legend()\n",
    "ax.grid(b=True)\n",
    "plt.show()"
   ]
  },
  {
   "cell_type": "markdown",
   "metadata": {},
   "source": [
    "## Poisson distribution"
   ]
  },
  {
   "cell_type": "code",
   "execution_count": 28,
   "metadata": {
    "collapsed": false
   },
   "outputs": [
    {
     "name": "stdout",
     "output_type": "stream",
     "text": [
      "mean= 4 ; std= 2.0\n"
     ]
    }
   ],
   "source": [
    "# Parameters\n",
    "llambda = 4\n",
    "\n",
    "# Statistical properties\n",
    "mu = llambda\n",
    "sd = np.sqrt(llambda)\n",
    "print(\"mean=\", np.round(mu, 2), \";\", \"std=\", np.round(sd, 2))"
   ]
  },
  {
   "cell_type": "code",
   "execution_count": 29,
   "metadata": {
    "collapsed": false
   },
   "outputs": [],
   "source": [
    "# Theoretical CDF\n",
    "xlim0 = stats.poisson.ppf(0.01, mu, loc=0)\n",
    "xlim1 = stats.poisson.ppf(0.99, mu, loc=0)\n",
    "x0 = np.linspace(xlim0, xlim1, 100)\n",
    "y0 = stats.poisson.cdf(x0, mu, loc=0)"
   ]
  },
  {
   "cell_type": "code",
   "execution_count": 30,
   "metadata": {
    "collapsed": true
   },
   "outputs": [],
   "source": [
    "# Sample size\n",
    "N = 100"
   ]
  },
  {
   "cell_type": "code",
   "execution_count": 31,
   "metadata": {
    "collapsed": false
   },
   "outputs": [
    {
     "name": "stdout",
     "output_type": "stream",
     "text": [
      "mean= 4.4 ; std= 2.05\n"
     ]
    }
   ],
   "source": [
    "# Random sample (numpy)\n",
    "y = np.random.poisson(lam=llambda, size=N)\n",
    "print(\"mean=\", np.mean(y).round(2), \";\", \"std=\", np.std(y).round(2))\n",
    "\n",
    "# Empirical CDF\n",
    "ecdf = ECDF(y)\n",
    "x1 = ecdf.x\n",
    "y1 = ecdf.y"
   ]
  },
  {
   "cell_type": "code",
   "execution_count": 32,
   "metadata": {
    "collapsed": false
   },
   "outputs": [
    {
     "name": "stdout",
     "output_type": "stream",
     "text": [
      "mean= 3.94 ; std= 1.83\n"
     ]
    }
   ],
   "source": [
    "# Random sample (scipy)\n",
    "y = stats.poisson.rvs(mu, loc=0, size=N)\n",
    "print(\"mean=\", np.mean(y).round(2), \";\", \"std=\", np.std(y).round(2))\n",
    "\n",
    "# Empirical CDF\n",
    "ecdf = ECDF(y)\n",
    "x2 = ecdf.x\n",
    "y2 = ecdf.y"
   ]
  },
  {
   "cell_type": "code",
   "execution_count": 33,
   "metadata": {
    "collapsed": false,
    "scrolled": true
   },
   "outputs": [
    {
     "data": {
      "image/png": "[encoded data removed]",
      "text/plain": [
       "<matplotlib.figure.Figure at 0x7f8f6b2e2470>"
      ]
     },
     "metadata": {},
     "output_type": "display_data"
    }
   ],
   "source": [
    "# Plot\n",
    "fig, ax = plt.subplots(1, 1)\n",
    "_ = ax.plot(x0, y0, marker=\"\", ls=\":\", c=\"k\", alpha=1.0, label=\"Theoretical\")\n",
    "_ = ax.plot(x1, y1, marker=\"\", ls=\"-\", c=\"b\", alpha=0.6, label=\"Sample (numpy)\")\n",
    "_ = ax.plot(x2, y2, marker=\"\", ls=\"-\", c=\"r\", alpha=0.6, label=\"Sample (scipy)\")\n",
    "ax.set_xlabel(\"Outcome (y)\")\n",
    "ax.set_ylabel(\"Cumulative frequency\")\n",
    "ax.set_title(\"Poisson distribution\")\n",
    "ax.legend()\n",
    "ax.grid(b=True)\n",
    "plt.show()"
   ]
  },
  {
   "cell_type": "markdown",
   "metadata": {},
   "source": [
    "## Bernoulli distribution"
   ]
  },
  {
   "cell_type": "code",
   "execution_count": 34,
   "metadata": {
    "collapsed": false
   },
   "outputs": [
    {
     "name": "stdout",
     "output_type": "stream",
     "text": [
      "mean= 0.5 ; std= 0.5\n"
     ]
    }
   ],
   "source": [
    "# Parameters\n",
    "p = 0.5\n",
    "n = 1      # defines Bernoulli as special case of binomial dist.\n",
    "\n",
    "# Statistical properties\n",
    "mu = p\n",
    "sd = np.sqrt(p * (1 - p))\n",
    "print(\"mean=\", np.round(mu, 2), \";\", \"std=\", np.round(sd, 2))"
   ]
  },
  {
   "cell_type": "code",
   "execution_count": 35,
   "metadata": {
    "collapsed": false
   },
   "outputs": [],
   "source": [
    "# Theoretical CDF\n",
    "xlim0 = stats.binom.ppf(0.01, n, p, loc=0)\n",
    "xlim1 = stats.binom.ppf(0.99, n, p, loc=0)\n",
    "x0 = np.linspace(xlim0, xlim1, 100)\n",
    "y0 = stats.binom.cdf(x0, n, p, loc=0)"
   ]
  },
  {
   "cell_type": "code",
   "execution_count": 36,
   "metadata": {
    "collapsed": true
   },
   "outputs": [],
   "source": [
    "# Sample size\n",
    "N = 100"
   ]
  },
  {
   "cell_type": "code",
   "execution_count": 37,
   "metadata": {
    "collapsed": false
   },
   "outputs": [
    {
     "name": "stdout",
     "output_type": "stream",
     "text": [
      "mean= 0.43 ; std= 0.5\n"
     ]
    }
   ],
   "source": [
    "# Random sample (scipy)\n",
    "y = stats.binom.rvs(n, p, loc=0, size=N)\n",
    "print(\"mean=\", np.mean(y).round(2), \";\", \"std=\", np.std(y).round(2))\n",
    "\n",
    "# Empirical CDF\n",
    "ecdf = ECDF(y)\n",
    "x2 = ecdf.x\n",
    "y2 = ecdf.y"
   ]
  },
  {
   "cell_type": "code",
   "execution_count": 38,
   "metadata": {
    "collapsed": false
   },
   "outputs": [
    {
     "name": "stdout",
     "output_type": "stream",
     "text": [
      "mean= 0.43 ; std= 0.5\n"
     ]
    }
   ],
   "source": [
    "# Random sample (numpy)\n",
    "y1 = np.random.binomial(n, p, size=N)\n",
    "print(\"mean=\", np.mean(y).round(2), \";\", \"std=\", np.std(y).round(2))\n",
    "\n",
    "# Empirical CDF\n",
    "ecdf = ECDF(y)\n",
    "x1 = ecdf.x\n",
    "y1 = ecdf.y"
   ]
  },
  {
   "cell_type": "code",
   "execution_count": 39,
   "metadata": {
    "collapsed": false,
    "scrolled": true
   },
   "outputs": [
    {
     "data": {
      "image/png": "[encoded data removed]",
      "text/plain": [
       "<matplotlib.figure.Figure at 0x7f8f678d3400>"
      ]
     },
     "metadata": {},
     "output_type": "display_data"
    }
   ],
   "source": [
    "# Plot\n",
    "fig, ax = plt.subplots(1, 1)\n",
    "_ = ax.plot(x0, y0, marker=\"\", ls=\":\", c=\"k\", alpha=1.0, label=\"Theoretical\")\n",
    "_ = ax.plot(x1, y1, marker=\"\", ls=\"-\", c=\"b\", alpha=0.6, label=\"Sample (numpy)\")\n",
    "_ = ax.plot(x2, y2, marker=\"\", ls=\"-\", c=\"r\", alpha=0.6, label=\"Sample (scipy)\")\n",
    "ax.set_xlabel(\"Outcome (y)\")\n",
    "ax.set_ylabel(\"Cumulative frequency\")\n",
    "ax.set_title(\"Bernoulli distribution\")\n",
    "ax.legend()\n",
    "ax.grid(b=True)\n",
    "plt.show()"
   ]
  },
  {
   "cell_type": "markdown",
   "metadata": {},
   "source": [
    "## Binomial distribution"
   ]
  },
  {
   "cell_type": "code",
   "execution_count": 73,
   "metadata": {
    "collapsed": false
   },
   "outputs": [
    {
     "name": "stdout",
     "output_type": "stream",
     "text": [
      "mean= 1.2 ; std= 0.69\n"
     ]
    }
   ],
   "source": [
    "# Parameters\n",
    "p = 0.6\n",
    "n = 2\n",
    "\n",
    "# Statistical properties\n",
    "mu = n * p\n",
    "sd = np.sqrt(n * p * (1 - p))\n",
    "print(\"mean=\", np.round(mu, 2), \";\", \"std=\", np.round(sd, 2))"
   ]
  },
  {
   "cell_type": "code",
   "execution_count": 74,
   "metadata": {
    "collapsed": false
   },
   "outputs": [],
   "source": [
    "# Theoretical CDF\n",
    "xlim0 = stats.binom.ppf(0.01, n, p, loc=0)\n",
    "xlim1 = stats.binom.ppf(0.99, n, p, loc=0)\n",
    "x0 = np.linspace(xlim0, xlim1, 100)\n",
    "y0 = stats.binom.cdf(x0, n, p, loc=0)"
   ]
  },
  {
   "cell_type": "code",
   "execution_count": 75,
   "metadata": {
    "collapsed": true
   },
   "outputs": [],
   "source": [
    "# Sample size\n",
    "N = 100"
   ]
  },
  {
   "cell_type": "code",
   "execution_count": 85,
   "metadata": {
    "collapsed": false
   },
   "outputs": [
    {
     "name": "stdout",
     "output_type": "stream",
     "text": [
      "mean= 1.24 ; std= 0.71\n"
     ]
    }
   ],
   "source": [
    "# Random sample (scipy)\n",
    "y = stats.binom.rvs(n, p, loc=0, size=N)\n",
    "print(\"mean=\", np.mean(y).round(2), \";\", \"std=\", np.std(y).round(2))\n",
    "\n",
    "# Empirical CDF\n",
    "ecdf = ECDF(y)\n",
    "x2 = ecdf.x\n",
    "y2 = ecdf.y"
   ]
  },
  {
   "cell_type": "code",
   "execution_count": 86,
   "metadata": {
    "collapsed": false
   },
   "outputs": [
    {
     "name": "stdout",
     "output_type": "stream",
     "text": [
      "mean= 1.24 ; std= 0.71\n"
     ]
    }
   ],
   "source": [
    "# Random sample (numpy)\n",
    "y1 = np.random.binomial(n, p, size=N)\n",
    "print(\"mean=\", np.mean(y).round(2), \";\", \"std=\", np.std(y).round(2))\n",
    "\n",
    "# Empirical CDF\n",
    "ecdf = ECDF(y)\n",
    "x1 = ecdf.x\n",
    "y1 = ecdf.y"
   ]
  },
  {
   "cell_type": "code",
   "execution_count": 87,
   "metadata": {
    "collapsed": false,
    "scrolled": true
   },
   "outputs": [
    {
     "data": {
      "image/png": "[encoded data removed]",
      "text/plain": [
       "<matplotlib.figure.Figure at 0x7f8f6791c198>"
      ]
     },
     "metadata": {},
     "output_type": "display_data"
    }
   ],
   "source": [
    "# Plot\n",
    "fig, ax = plt.subplots(1, 1)\n",
    "_ = ax.plot(x0, y0, marker=\"\", ls=\":\", c=\"k\", alpha=1.0, label=\"Theoretical\")\n",
    "_ = ax.plot(x1, y1, marker=\"\", ls=\"-\", c=\"b\", alpha=0.6, label=\"Sample (numpy)\")\n",
    "_ = ax.plot(x2, y2, marker=\"\", ls=\"-\", c=\"r\", alpha=0.6, label=\"Sample (scipy)\")\n",
    "ax.set_xlabel(\"Outcome (y)\")\n",
    "ax.set_ylabel(\"Cumulative frequency\")\n",
    "ax.set_title(\"Binomial distribution\")\n",
    "ax.legend()\n",
    "ax.grid(b=True)\n",
    "plt.show()"
   ]
  },
  {
   "cell_type": "markdown",
   "metadata": {},
   "source": [
    "## Categorical distribution"
   ]
  },
  {
   "cell_type": "code",
   "execution_count": 46,
   "metadata": {
    "collapsed": false
   },
   "outputs": [
    {
     "name": "stdout",
     "output_type": "stream",
     "text": [
      "mean= [0.1  0.69 0.21] ; std= [0.3  0.46 0.41]\n"
     ]
    }
   ],
   "source": [
    "# Parameters\n",
    "k = 3\n",
    "x = np.random.uniform(0, 1, k)\n",
    "p = x / sum(x)\n",
    "n = 1\n",
    "\n",
    "# Statistical properties\n",
    "mu = p\n",
    "sd = np.sqrt(p * (1 - p))\n",
    "print(\"mean=\", np.round(mu, 2), \";\", \"std=\", np.round(sd, 2))"
   ]
  },
  {
   "cell_type": "code",
   "execution_count": 47,
   "metadata": {
    "collapsed": true
   },
   "outputs": [],
   "source": [
    "# Sample size\n",
    "N = 100"
   ]
  },
  {
   "cell_type": "code",
   "execution_count": 48,
   "metadata": {
    "collapsed": false
   },
   "outputs": [
    {
     "name": "stdout",
     "output_type": "stream",
     "text": [
      "mean= [0.07 0.67 0.26] ; std= [0.26 0.47 0.44]\n"
     ]
    }
   ],
   "source": [
    "# Random sample (numpy)\n",
    "y = np.random.multinomial(n, p, size=N)\n",
    "print(\"mean=\", np.mean(y, 0).round(2), \";\", \"std=\", np.std(y, 0).round(2))"
   ]
  },
  {
   "cell_type": "code",
   "execution_count": 49,
   "metadata": {
    "collapsed": false
   },
   "outputs": [],
   "source": [
    "# stats.multinomial.xxx() not implemented yet"
   ]
  },
  {
   "cell_type": "markdown",
   "metadata": {},
   "source": [
    "## Multinomial distribution"
   ]
  },
  {
   "cell_type": "code",
   "execution_count": 50,
   "metadata": {
    "collapsed": false
   },
   "outputs": [
    {
     "name": "stdout",
     "output_type": "stream",
     "text": [
      "mean= [3.08 0.87 1.05] ; std= [1.09 0.85 0.91]\n"
     ]
    }
   ],
   "source": [
    "# Parameters\n",
    "k = 3\n",
    "x = np.random.uniform(0, 1, k)\n",
    "p = x / sum(x)\n",
    "n = 5\n",
    "\n",
    "# Statistical properties\n",
    "mu = n * p\n",
    "sd = np.sqrt(n * p * (1 - p))\n",
    "print(\"mean=\", np.round(mu, 2), \";\", \"std=\", np.round(sd, 2))"
   ]
  },
  {
   "cell_type": "code",
   "execution_count": 51,
   "metadata": {
    "collapsed": false
   },
   "outputs": [],
   "source": [
    "# Theoretical CDF\n",
    "# stats.multinomial.xxx() not implemented yet"
   ]
  },
  {
   "cell_type": "code",
   "execution_count": 52,
   "metadata": {
    "collapsed": true
   },
   "outputs": [],
   "source": [
    "# Sample size\n",
    "N = 100"
   ]
  },
  {
   "cell_type": "code",
   "execution_count": 53,
   "metadata": {
    "collapsed": false
   },
   "outputs": [
    {
     "name": "stdout",
     "output_type": "stream",
     "text": [
      "mean= [3.13 0.99 0.88] ; std= [1.04 0.9  0.8 ]\n"
     ]
    }
   ],
   "source": [
    "# Random sample (numpy)\n",
    "y = np.random.multinomial(n, p, size=N)\n",
    "print(\"mean=\", np.mean(y, 0).round(2), \";\", \"std=\", np.std(y, 0).round(2))"
   ]
  },
  {
   "cell_type": "code",
   "execution_count": 54,
   "metadata": {
    "collapsed": false
   },
   "outputs": [],
   "source": [
    "# stats.multinomial.xxx() not implemented yet"
   ]
  }
 ],
 "metadata": {
  "kernelspec": {
   "display_name": "Python 3",
   "language": "python",
   "name": "python3"
  },
  "language_info": {
   "codemirror_mode": {
    "name": "ipython",
    "version": 3
   },
   "file_extension": ".py",
   "mimetype": "text/x-python",
   "name": "python",
   "nbconvert_exporter": "python",
   "pygments_lexer": "ipython3",
   "version": "3.5.3"
  }
 },
 "nbformat": 4,
 "nbformat_minor": 2
}
